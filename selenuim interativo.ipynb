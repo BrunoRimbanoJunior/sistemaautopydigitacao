{
 "cells": [
  {
   "cell_type": "code",
   "execution_count": 1,
   "metadata": {},
   "outputs": [],
   "source": [
    "from selenium.webdriver import Chrome\n",
    "from selenium.webdriver.chrome.options import Options\n",
    "from selenium.webdriver.common.keys import Keys\n",
    "from selenium.webdriver.common.by import By\n",
    "from selenium.webdriver.support.ui import Select\n",
    "import pyautogui\n",
    "from time import sleep"
   ]
  },
  {
   "cell_type": "code",
   "execution_count": 2,
   "metadata": {},
   "outputs": [],
   "source": [
    "browser = Chrome()\n",
    "url = \"https://arquivei.com.br/\"\n",
    "browser.get(url)\n",
    "sleep(5)"
   ]
  },
  {
   "cell_type": "code",
   "execution_count": 3,
   "metadata": {},
   "outputs": [],
   "source": [
    "browser.find_element(By.XPATH, '//*[@id=\"__next\"]/div[2]/header/nav/div[2]/a[2]').click()\n",
    "sleep(2)"
   ]
  },
  {
   "cell_type": "code",
   "execution_count": 4,
   "metadata": {},
   "outputs": [],
   "source": [
    "browser.find_element(By.NAME, \"email\").send_keys(\"cpddpeg@gmail.com\")\n"
   ]
  },
  {
   "cell_type": "code",
   "execution_count": 5,
   "metadata": {},
   "outputs": [],
   "source": [
    "browser.find_element(By.NAME, \"password\").send_keys(\"@fb264e0d9e\")"
   ]
  },
  {
   "cell_type": "code",
   "execution_count": 6,
   "metadata": {},
   "outputs": [],
   "source": [
    "browser.find_element(By.NAME, \"login\").click()\n",
    "sleep(5)"
   ]
  },
  {
   "cell_type": "code",
   "execution_count": 7,
   "metadata": {},
   "outputs": [],
   "source": [
    "browser.find_element(By.XPATH, '//*[@id=\"arquivei\"]/section/section/aside/ul/li[2]/ul/li[1]/a').click()\n",
    "sleep(2)\n"
   ]
  },
  {
   "cell_type": "code",
   "execution_count": 9,
   "metadata": {},
   "outputs": [],
   "source": [
    "browser.find_element(By.XPATH, '//*[@id=\"main-section\"]/section[3]/div/div[2]/div/ul/li[2]/a').click()\n",
    "sleep(3)\n",
    "browser.find_element(By.XPATH, '//*[@id=\"document-table-ajax\"]/div/div[1]/div[1]/div[2]/div/div/div[2]/div').click()\n",
    "#sleep(1)\n",
    "#browser.find_element(By.CLASS_NAME, 'css-4i2t48-singleValue').value_of_css_property('Período personalizado')\n"
   ]
  },
  {
   "cell_type": "code",
   "execution_count": 41,
   "metadata": {},
   "outputs": [
    {
     "ename": "UnexpectedTagNameException",
     "evalue": "Message: Select only works on <select> elements, not on <div>\n",
     "output_type": "error",
     "traceback": [
      "\u001b[1;31m---------------------------------------------------------------------------\u001b[0m",
      "\u001b[1;31mUnexpectedTagNameException\u001b[0m                Traceback (most recent call last)",
      "Cell \u001b[1;32mIn[41], line 1\u001b[0m\n\u001b[1;32m----> 1\u001b[0m Select(browser\u001b[39m.\u001b[39;49mfind_element(By\u001b[39m.\u001b[39;49mCLASS_NAME, \u001b[39m'\u001b[39;49m\u001b[39mcss-4i2t48-singleValue\u001b[39;49m\u001b[39m'\u001b[39;49m))\u001b[39m.\u001b[39mselect_by_visible_text(\u001b[39m'\u001b[39m\u001b[39mPeríodo personalizado\u001b[39m\u001b[39m'\u001b[39m)\n\u001b[0;32m      2\u001b[0m \u001b[39m#select.select_by_visible_text('Período personalizado')\u001b[39;00m\n",
      "File \u001b[1;32mc:\\Users\\jubar\\AppData\\Local\\Programs\\Python\\Python310\\lib\\site-packages\\selenium\\webdriver\\support\\select.py:37\u001b[0m, in \u001b[0;36mSelect.__init__\u001b[1;34m(self, webelement)\u001b[0m\n\u001b[0;32m     25\u001b[0m \u001b[39m\u001b[39m\u001b[39m\"\"\"\u001b[39;00m\n\u001b[0;32m     26\u001b[0m \u001b[39mConstructor. A check is made that the given element is, indeed, a SELECT tag. If it is not,\u001b[39;00m\n\u001b[0;32m     27\u001b[0m \u001b[39mthen an UnexpectedTagNameException is thrown.\u001b[39;00m\n\u001b[1;32m   (...)\u001b[0m\n\u001b[0;32m     34\u001b[0m \u001b[39m    Select(driver.find_element(By.TAG_NAME, \"select\")).select_by_index(2)\u001b[39;00m\n\u001b[0;32m     35\u001b[0m \u001b[39m\"\"\"\u001b[39;00m\n\u001b[0;32m     36\u001b[0m \u001b[39mif\u001b[39;00m webelement\u001b[39m.\u001b[39mtag_name\u001b[39m.\u001b[39mlower() \u001b[39m!=\u001b[39m \u001b[39m\"\u001b[39m\u001b[39mselect\u001b[39m\u001b[39m\"\u001b[39m:\n\u001b[1;32m---> 37\u001b[0m     \u001b[39mraise\u001b[39;00m UnexpectedTagNameException(\n\u001b[0;32m     38\u001b[0m         \u001b[39m\"\u001b[39m\u001b[39mSelect only works on <select> elements, not on <\u001b[39m\u001b[39m%s\u001b[39;00m\u001b[39m>\u001b[39m\u001b[39m\"\u001b[39m \u001b[39m%\u001b[39m\n\u001b[0;32m     39\u001b[0m         webelement\u001b[39m.\u001b[39mtag_name)\n\u001b[0;32m     40\u001b[0m \u001b[39mself\u001b[39m\u001b[39m.\u001b[39m_el \u001b[39m=\u001b[39m webelement\n\u001b[0;32m     41\u001b[0m multi \u001b[39m=\u001b[39m \u001b[39mself\u001b[39m\u001b[39m.\u001b[39m_el\u001b[39m.\u001b[39mget_dom_attribute(\u001b[39m\"\u001b[39m\u001b[39mmultiple\u001b[39m\u001b[39m\"\u001b[39m)\n",
      "\u001b[1;31mUnexpectedTagNameException\u001b[0m: Message: Select only works on <select> elements, not on <div>\n"
     ]
    }
   ],
   "source": [
    "Select(browser.find_element(By.CLASS_NAME, 'css-4i2t48-singleValue')).select_by_visible_text('Período personalizado')\n",
    "#select.select_by_visible_text('Período personalizado')\n"
   ]
  },
  {
   "cell_type": "code",
   "execution_count": 24,
   "metadata": {},
   "outputs": [],
   "source": [
    "browser.find_element(By.XPATH,'//*[@id=\"startDate\"]').send_keys(\"04012023\")\n",
    "sleep(1)\n",
    "browser.find_element(By.XPATH, '//*[@id=\"endDate\"]').send_keys(\"04012023\")\n",
    "sleep(1)\n",
    "pyautogui.press('tab')\n"
   ]
  }
 ],
 "metadata": {
  "kernelspec": {
   "display_name": "Python 3",
   "language": "python",
   "name": "python3"
  },
  "language_info": {
   "codemirror_mode": {
    "name": "ipython",
    "version": 3
   },
   "file_extension": ".py",
   "mimetype": "text/x-python",
   "name": "python",
   "nbconvert_exporter": "python",
   "pygments_lexer": "ipython3",
   "version": "3.10.8"
  },
  "orig_nbformat": 4,
  "vscode": {
   "interpreter": {
    "hash": "1346045b9f7e820d3b30b727912e290f6d419182fbe37282d6ecc46f093cb77a"
   }
  }
 },
 "nbformat": 4,
 "nbformat_minor": 2
}
